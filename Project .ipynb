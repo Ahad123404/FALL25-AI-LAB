{
 "cells": [
  {
   "cell_type": "code",
   "execution_count": null,
   "id": "6d7331ae",
   "metadata": {},
   "outputs": [],
   "source": [
    "# To-Do List using OOP (Classes)\n",
    "\n",
    "class Task:\n",
    "    def __init__(self, title):\n",
    "        self.title = title\n",
    "\n",
    "    def __str__(self):\n",
    "        return self.title\n",
    "\n",
    "\n",
    "class ToDoList:\n",
    "    def __init__(self):\n",
    "        self.tasks = []\n",
    "\n",
    "    def add_task(self, title):\n",
    "        self.tasks.append(Task(title))\n",
    "\n",
    "    def remove_task(self, title):\n",
    "        # remove first match if found\n",
    "        for i, t in enumerate(self.tasks):\n",
    "            if t.title == title:\n",
    "                self.tasks.pop(i)\n",
    "                return True\n",
    "        return False\n",
    "\n",
    "    def list_tasks(self, heading=None):\n",
    "        if heading:\n",
    "            print(heading)\n",
    "        if not self.tasks:\n",
    "            print(\"No tasks.\")\n",
    "        else:\n",
    "            for i, t in enumerate(self.tasks, start=1):\n",
    "                print(f\"{i}. {t}\")\n",
    "        print()  # blank line for neat output\n",
    "\n",
    "\n",
    "# ---- Demo (Direct Output) ----\n",
    "todo = ToDoList()\n",
    "\n",
    "# initial tasks\n",
    "todo.add_task(\"Finish assignment\")\n",
    "todo.add_task(\"Clean the desk\")\n",
    "todo.add_task(\"Buy fruits\")\n",
    "\n",
    "todo.list_tasks(\"Initial Tasks:\")\n",
    "\n",
    "# add a new task\n",
    "todo.add_task(\"Prepare for test\")\n",
    "todo.list_tasks(\"After Adding a Task:\")\n",
    "\n",
    "# remove one task\n",
    "todo.remove_task(\"Clean the desk\")\n",
    "todo.list_tasks(\"After Removing a Task:\")\n"
   ]
  }
 ],
 "metadata": {
  "kernelspec": {
   "display_name": ".venv (3.13.0)",
   "language": "python",
   "name": "python3"
  },
  "language_info": {
   "name": "python",
   "version": "3.13.0"
  }
 },
 "nbformat": 4,
 "nbformat_minor": 5
}
